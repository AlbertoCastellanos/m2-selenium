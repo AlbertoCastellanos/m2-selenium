{
 "cells": [
  {
   "cell_type": "code",
   "execution_count": 3,
   "metadata": {},
   "outputs": [],
   "source": [
    "# NOTE: Install geckodriver first!! \n",
    "# https://github.com/mozilla/geckodriver\n",
    "# brew install geckodriver\n",
    "from getpage import getPage"
   ]
  },
  {
   "cell_type": "code",
   "execution_count": 4,
   "metadata": {},
   "outputs": [],
   "source": [
    "soup = getPage(\"https://www.amazon.es/Hooked-Build-Habit-Forming-Products-Portfolio/dp/0241184835\")"
   ]
  },
  {
   "cell_type": "code",
   "execution_count": 21,
   "metadata": {},
   "outputs": [
    {
     "data": {
      "text/plain": [
       "{'name': 'Hooked: How to Build Habit-Forming Products (Portfolio) Tapa dura  – 6 nov 2014',\n",
       " 'price': 'EUR 16,00'}"
      ]
     },
     "metadata": {},
     "output_type": "display_data"
    }
   ],
   "source": [
    "product = {\n",
    "    \"name\": soup.select('h1')[0].text.replace('\\n',' ').strip(),\n",
    "    \"price\": soup.select('.offer-price')[0].text\n",
    "}\n",
    "\n",
    "display(product)"
   ]
  },
  {
   "cell_type": "code",
   "execution_count": null,
   "metadata": {},
   "outputs": [],
   "source": []
  },
  {
   "cell_type": "code",
   "execution_count": null,
   "metadata": {},
   "outputs": [],
   "source": []
  },
  {
   "cell_type": "code",
   "execution_count": null,
   "metadata": {},
   "outputs": [],
   "source": []
  }
 ],
 "metadata": {
  "kernelspec": {
   "display_name": "Python 3",
   "language": "python",
   "name": "python3"
  },
  "language_info": {
   "codemirror_mode": {
    "name": "ipython",
    "version": 3
   },
   "file_extension": ".py",
   "mimetype": "text/x-python",
   "name": "python",
   "nbconvert_exporter": "python",
   "pygments_lexer": "ipython3",
   "version": "3.7.0"
  }
 },
 "nbformat": 4,
 "nbformat_minor": 2
}
